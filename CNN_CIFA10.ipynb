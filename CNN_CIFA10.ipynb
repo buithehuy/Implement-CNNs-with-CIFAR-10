{
  "nbformat": 4,
  "nbformat_minor": 0,
  "metadata": {
    "colab": {
      "provenance": []
    },
    "kernelspec": {
      "name": "python3",
      "display_name": "Python 3"
    },
    "language_info": {
      "name": "python"
    }
  },
  "cells": [
    {
      "cell_type": "markdown",
      "source": [
        "# **Implement CNNs with CIFAR 10. Training and Evaluating on CIFAR 10.**"
      ],
      "metadata": {
        "id": "AzI0U5PMaNpm"
      }
    },
    {
      "cell_type": "code",
      "execution_count": 2,
      "metadata": {
        "id": "patF_wxSR8HP"
      },
      "outputs": [],
      "source": [
        "import torch\n",
        "import torch.nn as nn\n",
        "import torch.optim as optim\n",
        "import torchvision\n",
        "import torchvision.transforms as transforms\n",
        "import matplotlib.pyplot as plt"
      ]
    },
    {
      "cell_type": "code",
      "source": [
        "transform = transforms.Compose([transforms.ToTensor(), transforms.Normalize((0.5,), (0.5,))])\n",
        "\n",
        "trainset = torchvision.datasets.CIFAR10(root='./data', train=True, download=True, transform=transform)\n",
        "trainloader = torch.utils.data.DataLoader(trainset, batch_size=64, shuffle=True)\n",
        "\n",
        "testset = torchvision.datasets.CIFAR10(root='./data', train=False, download=True, transform=transform)\n",
        "testloader = torch.utils.data.DataLoader(testset, batch_size=64, shuffle=False)\n",
        "\n",
        "classes = trainset.classes"
      ],
      "metadata": {
        "colab": {
          "base_uri": "https://localhost:8080/"
        },
        "id": "0mpK4PzoSLV8",
        "outputId": "26c45667-214f-4991-cb6d-9682c0713869"
      },
      "execution_count": 3,
      "outputs": [
        {
          "output_type": "stream",
          "name": "stdout",
          "text": [
            "Downloading https://www.cs.toronto.edu/~kriz/cifar-10-python.tar.gz to ./data/cifar-10-python.tar.gz\n"
          ]
        },
        {
          "output_type": "stream",
          "name": "stderr",
          "text": [
            "100%|██████████| 170M/170M [00:04<00:00, 35.5MB/s]\n"
          ]
        },
        {
          "output_type": "stream",
          "name": "stdout",
          "text": [
            "Extracting ./data/cifar-10-python.tar.gz to ./data\n",
            "Files already downloaded and verified\n"
          ]
        }
      ]
    },
    {
      "cell_type": "code",
      "source": [
        "class CNN(nn.Module):\n",
        "    def __init__(self):\n",
        "        super(CNN, self).__init__()\n",
        "        self.conv1 = nn.Conv2d(3, 32, kernel_size=3, stride=1, padding=1)\n",
        "        self.conv2 = nn.Conv2d(32, 64, kernel_size=3, stride=1, padding=1)\n",
        "        self.pool = nn.MaxPool2d(2, 2)\n",
        "        self.fc1 = nn.Linear(64 * 8 * 8, 512)\n",
        "        self.fc2 = nn.Linear(512, 10)\n",
        "        self.relu = nn.ReLU()\n",
        "\n",
        "    def forward(self, x):\n",
        "        x = self.pool(self.relu(self.conv1(x)))\n",
        "        x = self.pool(self.relu(self.conv2(x)))\n",
        "        x = x.view(-1, 64 * 8 * 8)\n",
        "        x = self.relu(self.fc1(x))\n",
        "        x = self.fc2(x)\n",
        "        return x\n",
        "\n",
        "model = CNN()\n",
        "\n",
        "# Define Loss and Optimizer\n",
        "criterion = nn.CrossEntropyLoss()\n",
        "optimizer = optim.Adam(model.parameters(), lr=0.001)\n",
        "\n",
        "# Training the Model\n",
        "device = torch.device('cuda' if torch.cuda.is_available() else 'cpu')\n",
        "model.to(device)\n",
        "\n",
        "num_epochs = 10\n",
        "training_log = []\n",
        "\n",
        "for epoch in range(num_epochs):\n",
        "    running_loss = 0.0\n",
        "    model.train()\n",
        "    for images, labels in trainloader:\n",
        "        images, labels = images.to(device), labels.to(device)\n",
        "\n",
        "        optimizer.zero_grad()\n",
        "        outputs = model(images)\n",
        "        loss = criterion(outputs, labels)\n",
        "        loss.backward()\n",
        "        optimizer.step()\n",
        "\n",
        "        running_loss += loss.item()\n",
        "\n",
        "    avg_loss = running_loss / len(trainloader)\n",
        "    print(f\"Epoch {epoch+1}, Loss: {avg_loss:.4f}\")\n",
        "    training_log.append(f\"Epoch {epoch+1}, Loss: {avg_loss:.4f}\")"
      ],
      "metadata": {
        "colab": {
          "base_uri": "https://localhost:8080/"
        },
        "id": "AzOJEM1ASk3L",
        "outputId": "69be1575-4613-43c9-c544-e851c7e42d5a"
      },
      "execution_count": 4,
      "outputs": [
        {
          "output_type": "stream",
          "name": "stdout",
          "text": [
            "Epoch 1, Loss: 1.2942\n",
            "Epoch 2, Loss: 0.8910\n",
            "Epoch 3, Loss: 0.6990\n",
            "Epoch 4, Loss: 0.5433\n",
            "Epoch 5, Loss: 0.3918\n",
            "Epoch 6, Loss: 0.2556\n",
            "Epoch 7, Loss: 0.1601\n",
            "Epoch 8, Loss: 0.1080\n",
            "Epoch 9, Loss: 0.0671\n",
            "Epoch 10, Loss: 0.0714\n"
          ]
        }
      ]
    },
    {
      "cell_type": "code",
      "source": [
        "# Evaluating the Model\n",
        "model.eval()\n",
        "correct = 0\n",
        "total = 0\n",
        "with torch.no_grad():\n",
        "    for images, labels in testloader:\n",
        "        images, labels = images.to(device), labels.to(device)\n",
        "        outputs = model(images)\n",
        "        _, predicted = torch.max(outputs, 1)\n",
        "        total += labels.size(0)\n",
        "        correct += (predicted == labels).sum().item()\n",
        "\n",
        "print(f\"Accuracy: {100 * correct / total:.2f}%\")\n",
        "\n",
        "# Save Training Log\n",
        "with open('training_log.txt', 'w') as f:\n",
        "    f.writelines('\\n'.join(training_log))\n"
      ],
      "metadata": {
        "colab": {
          "base_uri": "https://localhost:8080/"
        },
        "id": "e9oqj17jZrHG",
        "outputId": "37da61d6-ed24-4f4e-daf4-510e73c131fd"
      },
      "execution_count": 5,
      "outputs": [
        {
          "output_type": "stream",
          "name": "stdout",
          "text": [
            "Accuracy: 72.88%\n"
          ]
        }
      ]
    },
    {
      "cell_type": "code",
      "source": [
        "# Visualizing Some Test Predictions\n",
        "def imshow(img):\n",
        "    img = img / 2 + 0.5  # Unnormalize\n",
        "    plt.imshow(torch.permute(img, (1, 2, 0)))\n",
        "\n",
        "dataiter = iter(testloader)\n",
        "images, labels = next(dataiter)\n",
        "outputs = model(images.to(device))\n",
        "_, predicted = torch.max(outputs, 1)\n",
        "\n",
        "# Show Images with Predictions\n",
        "plt.figure(figsize=(10, 4))\n",
        "for i in range(8):\n",
        "    plt.subplot(2, 4, i+1)\n",
        "    imshow(images[i])\n",
        "    plt.title(f\"Pred: {classes[predicted[i].item()]}\")\n",
        "    plt.axis('off')\n",
        "plt.show()"
      ],
      "metadata": {
        "colab": {
          "base_uri": "https://localhost:8080/",
          "height": 367
        },
        "id": "hVoOgvFzZ5JO",
        "outputId": "3aacaf5d-afc0-4217-88f2-541cf82d7038"
      },
      "execution_count": 6,
      "outputs": [
        {
          "output_type": "display_data",
          "data": {
            "text/plain": [
              "<Figure size 1000x400 with 8 Axes>"
            ],
            "image/png": "[encoded data removed]"
          },
          "metadata": {}
        }
      ]
    },
    {
      "cell_type": "markdown",
      "source": [
        "# **Tuning hyper-parameters: batch size, optimizer, learning rate, ...**"
      ],
      "metadata": {
        "id": "KGrGVjGRaU22"
      }
    },
    {
      "cell_type": "code",
      "source": [
        "from itertools import product\n",
        "\n",
        "# Define hyperparameter combinations\n",
        "batch_sizes = [32, 64]\n",
        "learning_rates = [0.001, 0.0005]\n",
        "optimizers = ['Adam', 'SGD']\n",
        "results = []\n",
        "\n",
        "# Loop over all combinations\n",
        "for batch_size, lr, opt in product(batch_sizes, learning_rates, optimizers):\n",
        "    print(f\"\\nTuning with Batch Size={batch_size}, LR={lr}, Optimizer={opt}\")\n",
        "\n",
        "    trainloader = torch.utils.data.DataLoader(trainset, batch_size=batch_size, shuffle=True)\n",
        "    testloader = torch.utils.data.DataLoader(testset, batch_size=batch_size, shuffle=False)\n",
        "\n",
        "    model = CNN().to(device)\n",
        "\n",
        "    # Define Optimizer\n",
        "    if opt == 'Adam':\n",
        "        optimizer = optim.Adam(model.parameters(), lr=lr)\n",
        "    elif opt == 'SGD':\n",
        "        optimizer = optim.SGD(model.parameters(), lr=lr, momentum=0.9)\n",
        "\n",
        "    # Train\n",
        "    num_epochs = 5\n",
        "    for epoch in range(num_epochs):\n",
        "        running_loss = 0.0\n",
        "        model.train()\n",
        "        for images, labels in trainloader:\n",
        "            images, labels = images.to(device), labels.to(device)\n",
        "\n",
        "            optimizer.zero_grad()\n",
        "            outputs = model(images)\n",
        "            loss = criterion(outputs, labels)\n",
        "            loss.backward()\n",
        "            optimizer.step()\n",
        "\n",
        "            running_loss += loss.item()\n",
        "\n",
        "        avg_loss = running_loss / len(trainloader)\n",
        "        print(f\"Epoch {epoch+1}, Loss: {avg_loss:.4f}\")\n",
        "\n",
        "    # Evaluate on test data\n",
        "    model.eval()\n",
        "    correct = 0\n",
        "    total = 0\n",
        "    with torch.no_grad():\n",
        "        for images, labels in testloader:\n",
        "            images, labels = images.to(device), labels.to(device)\n",
        "            outputs = model(images)\n",
        "            _, predicted = torch.max(outputs, 1)\n",
        "            total += labels.size(0)\n",
        "            correct += (predicted == labels).sum().item()\n",
        "\n",
        "    accuracy = 100 * correct / total\n",
        "    print(f\"Test Accuracy: {accuracy:.2f}%\")\n",
        "    results.append((batch_size, lr, opt, accuracy))\n",
        "\n",
        "# The Best Results\n",
        "best_result = max(results, key=lambda x: x[3])\n",
        "print(\"\\nBest Hyperparameters:\")\n",
        "print(f\"Batch Size: {best_result[0]}, Learning Rate: {best_result[1]}, Optimizer: {best_result[2]}, Accuracy: {best_result[3]:.2f}%\")\n"
      ],
      "metadata": {
        "colab": {
          "base_uri": "https://localhost:8080/"
        },
        "id": "h-9U26elaL7O",
        "outputId": "2c66279f-380e-47c0-b02c-e62d0ce3130d"
      },
      "execution_count": 7,
      "outputs": [
        {
          "output_type": "stream",
          "name": "stdout",
          "text": [
            "\n",
            "Tuning with Batch Size=32, LR=0.001, Optimizer=Adam\n",
            "Epoch 1, Loss: 1.2567\n",
            "Epoch 2, Loss: 0.8586\n",
            "Epoch 3, Loss: 0.6748\n",
            "Epoch 4, Loss: 0.5166\n",
            "Epoch 5, Loss: 0.3660\n",
            "Test Accuracy: 72.64%\n",
            "\n",
            "Tuning with Batch Size=32, LR=0.001, Optimizer=SGD\n",
            "Epoch 1, Loss: 1.9240\n",
            "Epoch 2, Loss: 1.4489\n",
            "Epoch 3, Loss: 1.2688\n",
            "Epoch 4, Loss: 1.1553\n",
            "Epoch 5, Loss: 1.0561\n",
            "Test Accuracy: 62.32%\n",
            "\n",
            "Tuning with Batch Size=32, LR=0.0005, Optimizer=Adam\n",
            "Epoch 1, Loss: 1.3081\n",
            "Epoch 2, Loss: 0.9235\n",
            "Epoch 3, Loss: 0.7430\n",
            "Epoch 4, Loss: 0.5967\n",
            "Epoch 5, Loss: 0.4568\n",
            "Test Accuracy: 72.95%\n",
            "\n",
            "Tuning with Batch Size=32, LR=0.0005, Optimizer=SGD\n",
            "Epoch 1, Loss: 2.0279\n",
            "Epoch 2, Loss: 1.6483\n",
            "Epoch 3, Loss: 1.4572\n",
            "Epoch 4, Loss: 1.3390\n",
            "Epoch 5, Loss: 1.2572\n",
            "Test Accuracy: 55.60%\n",
            "\n",
            "Tuning with Batch Size=64, LR=0.001, Optimizer=Adam\n",
            "Epoch 1, Loss: 1.2627\n",
            "Epoch 2, Loss: 0.8690\n",
            "Epoch 3, Loss: 0.6849\n",
            "Epoch 4, Loss: 0.5229\n",
            "Epoch 5, Loss: 0.3640\n",
            "Test Accuracy: 74.28%\n",
            "\n",
            "Tuning with Batch Size=64, LR=0.001, Optimizer=SGD\n",
            "Epoch 1, Loss: 2.0638\n",
            "Epoch 2, Loss: 1.6538\n",
            "Epoch 3, Loss: 1.4506\n",
            "Epoch 4, Loss: 1.3306\n",
            "Epoch 5, Loss: 1.2478\n",
            "Test Accuracy: 55.75%\n",
            "\n",
            "Tuning with Batch Size=64, LR=0.0005, Optimizer=Adam\n",
            "Epoch 1, Loss: 1.3787\n",
            "Epoch 2, Loss: 0.9985\n",
            "Epoch 3, Loss: 0.8335\n",
            "Epoch 4, Loss: 0.7155\n",
            "Epoch 5, Loss: 0.6034\n",
            "Test Accuracy: 72.30%\n",
            "\n",
            "Tuning with Batch Size=64, LR=0.0005, Optimizer=SGD\n",
            "Epoch 1, Loss: 2.1957\n",
            "Epoch 2, Loss: 1.8973\n",
            "Epoch 3, Loss: 1.6975\n",
            "Epoch 4, Loss: 1.5606\n",
            "Epoch 5, Loss: 1.4631\n",
            "Test Accuracy: 48.88%\n",
            "\n",
            "Best Hyperparameters:\n",
            "Batch Size: 64, Learning Rate: 0.001, Optimizer: Adam, Accuracy: 74.28%\n"
          ]
        }
      ]
    }
  ]
}